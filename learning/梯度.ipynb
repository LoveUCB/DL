{
 "cells": [
  {
   "cell_type": "code",
   "execution_count": 1,
   "id": "initial_id",
   "metadata": {
    "collapsed": true,
    "ExecuteTime": {
     "end_time": "2023-12-10T07:27:36.544452Z",
     "start_time": "2023-12-10T07:27:35.736733Z"
    }
   },
   "outputs": [],
   "source": [
    "import torch"
   ]
  },
  {
   "cell_type": "markdown",
   "source": [
    "# 梯度数学含义\n",
    "> 导数：一个函数的变化率\n",
    "> 偏微分：一个函数的给定自变量方向变化率\n",
    "> 梯度：一个函数所有偏微分的组合向量\n",
    "- 梯度的长度表示这个函数的变化速率\n",
    "- 梯度的方向表示函数增长最快的方向\n",
    "\n",
    "# 极小值搜索——梯度下降\n",
    "$\\theta_{t+1} = \\theta_t - \\alpha_t \\nabla f(\\theta_t)$\n",
    "- 不进行优化可能卡在局部最小值"
   ],
   "metadata": {
    "collapsed": false
   },
   "id": "6304335abed436c9"
  },
  {
   "cell_type": "code",
   "execution_count": null,
   "outputs": [],
   "source": [],
   "metadata": {
    "collapsed": false
   },
   "id": "6b83619619c1b03"
  }
 ],
 "metadata": {
  "kernelspec": {
   "display_name": "Python 3",
   "language": "python",
   "name": "python3"
  },
  "language_info": {
   "codemirror_mode": {
    "name": "ipython",
    "version": 2
   },
   "file_extension": ".py",
   "mimetype": "text/x-python",
   "name": "python",
   "nbconvert_exporter": "python",
   "pygments_lexer": "ipython2",
   "version": "2.7.6"
  }
 },
 "nbformat": 4,
 "nbformat_minor": 5
}
