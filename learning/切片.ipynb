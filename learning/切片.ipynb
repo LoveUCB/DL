{
 "cells": [
  {
   "cell_type": "code",
   "execution_count": 1,
   "outputs": [],
   "source": [
    "import numpy as np\n",
    "import torch"
   ],
   "metadata": {
    "collapsed": false,
    "ExecuteTime": {
     "end_time": "2023-12-10T06:54:17.681357Z",
     "start_time": "2023-12-10T06:54:16.800728Z"
    }
   },
   "id": "7958de7e27d840b4"
  },
  {
   "cell_type": "markdown",
   "source": [
    "# 索引\n",
    "- 与python中的索引一致\n",
    "- start:end:step"
   ],
   "metadata": {
    "collapsed": false
   },
   "id": "9e3f2ed517dcc7be"
  },
  {
   "cell_type": "code",
   "execution_count": 3,
   "outputs": [
    {
     "name": "stdout",
     "output_type": "stream",
     "text": [
      "torch.Size([3, 28, 28])\n",
      "torch.Size([28, 28])\n",
      "tensor(0.9659)\n"
     ]
    }
   ],
   "source": [
    "a = torch.rand(4,3,28,28)\n",
    "print(a[0].shape) # 默认按照顺序进行索引\n",
    "print(a[0,0].shape)\n",
    "print(a[0,0,2,4])"
   ],
   "metadata": {
    "collapsed": false,
    "ExecuteTime": {
     "end_time": "2023-12-10T07:01:31.327749Z",
     "start_time": "2023-12-10T07:01:31.321862Z"
    }
   },
   "id": "edc14cbef8b03702"
  },
  {
   "cell_type": "code",
   "execution_count": 5,
   "outputs": [
    {
     "name": "stdout",
     "output_type": "stream",
     "text": [
      "torch.Size([2, 3, 28, 28])\n",
      "torch.Size([2, 1, 28, 28])\n",
      "torch.Size([2, 1, 28, 28])\n"
     ]
    }
   ],
   "source": [
    "print(a[:2].shape)\n",
    "print(a[:2,:1,:,:].shape)\n",
    "print(a[:2,-1:,:,:].shape)"
   ],
   "metadata": {
    "collapsed": false,
    "ExecuteTime": {
     "end_time": "2023-12-10T07:01:43.013768Z",
     "start_time": "2023-12-10T07:01:43.012482Z"
    }
   },
   "id": "d8a4f4b93fb3e718"
  },
  {
   "cell_type": "markdown",
   "source": [
    "# index_select\n",
    "- 第一个值为维度，第二个值为索引"
   ],
   "metadata": {
    "collapsed": false
   },
   "id": "b73caeeaa304169b"
  },
  {
   "cell_type": "code",
   "execution_count": null,
   "outputs": [],
   "source": [
    "print(a.index_select(1,[1,2]))"
   ],
   "metadata": {
    "collapsed": false
   },
   "id": "8b0f5419a697a252"
  },
  {
   "cell_type": "markdown",
   "source": [
    "# ...省略部分全部"
   ],
   "metadata": {
    "collapsed": false
   },
   "id": "4f4ae3866941de7a"
  },
  {
   "cell_type": "code",
   "execution_count": 6,
   "outputs": [
    {
     "name": "stdout",
     "output_type": "stream",
     "text": [
      "torch.Size([4, 3, 28, 28])\n",
      "torch.Size([3, 28, 28])\n",
      "torch.Size([4, 28, 28])\n",
      "torch.Size([4, 3, 28, 2])\n"
     ]
    }
   ],
   "source": [
    "print(a[...].shape)\n",
    "print(a[0,...].shape)\n",
    "print(a[:,1,...].shape)\n",
    "print(a[...,:2].shape)"
   ],
   "metadata": {
    "collapsed": false,
    "ExecuteTime": {
     "end_time": "2023-12-10T07:19:23.661491Z",
     "start_time": "2023-12-10T07:19:23.622955Z"
    }
   },
   "id": "f2512e541fcf8df4"
  }
 ],
 "metadata": {
  "kernelspec": {
   "display_name": "Python 3",
   "language": "python",
   "name": "python3"
  },
  "language_info": {
   "codemirror_mode": {
    "name": "ipython",
    "version": 2
   },
   "file_extension": ".py",
   "mimetype": "text/x-python",
   "name": "python",
   "nbconvert_exporter": "python",
   "pygments_lexer": "ipython2",
   "version": "2.7.6"
  }
 },
 "nbformat": 4,
 "nbformat_minor": 5
}
