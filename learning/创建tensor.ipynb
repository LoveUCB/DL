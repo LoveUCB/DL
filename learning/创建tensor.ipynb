{
 "cells": [
  {
   "cell_type": "markdown",
   "source": [
    "# numpy引入"
   ],
   "metadata": {
    "collapsed": false
   },
   "id": "4ee27077f09d670c"
  },
  {
   "cell_type": "code",
   "execution_count": 1,
   "id": "initial_id",
   "metadata": {
    "collapsed": true,
    "ExecuteTime": {
     "end_time": "2023-12-10T06:23:58.136527Z",
     "start_time": "2023-12-10T06:23:57.223384Z"
    }
   },
   "outputs": [
    {
     "name": "stdout",
     "output_type": "stream",
     "text": [
      "tensor([2.0000, 3.3000], dtype=torch.float64)\n",
      "tensor([[1., 1., 1.],\n",
      "        [1., 1., 1.]], dtype=torch.float64)\n"
     ]
    }
   ],
   "source": [
    "import torch\n",
    "import numpy as np\n",
    "a = np.array([2,3.3])\n",
    "print(torch.from_numpy(a))\n",
    "a = np.ones([2,3])\n",
    "print(torch.from_numpy(a))"
   ]
  },
  {
   "cell_type": "markdown",
   "source": [
    "# 大小写的tensor\n",
    "- 大写的给shape，小写的给数值"
   ],
   "metadata": {
    "collapsed": false
   },
   "id": "93992f0d1faedd96"
  },
  {
   "cell_type": "code",
   "execution_count": 2,
   "outputs": [
    {
     "name": "stdout",
     "output_type": "stream",
     "text": [
      "tensor([2.0000, 3.2000])\n",
      "tensor([[-5.5906e+06,  4.5863e-41, -5.5906e+06],\n",
      "        [ 4.5863e-41,  4.4842e-44,  0.0000e+00]])\n"
     ]
    }
   ],
   "source": [
    "print(torch.tensor([2.,3.2]))\n",
    "print(torch.Tensor(2,3))"
   ],
   "metadata": {
    "collapsed": false,
    "ExecuteTime": {
     "end_time": "2023-12-10T06:24:00.485220Z",
     "start_time": "2023-12-10T06:24:00.479886Z"
    }
   },
   "id": "5592d1619ac9a092"
  },
  {
   "cell_type": "markdown",
   "source": [
    "# 生成未初始化的数据"
   ],
   "metadata": {
    "collapsed": false
   },
   "id": "f7d7abaf46a7eda9"
  },
  {
   "cell_type": "code",
   "execution_count": 4,
   "outputs": [
    {
     "name": "stdout",
     "output_type": "stream",
     "text": [
      "tensor([[0.0000e+00, 0.0000e+00, 1.2106e-33],\n",
      "        [0.0000e+00, 1.4013e-45, 0.0000e+00]])\n",
      "tensor([[[1.0431e-33, 0.0000e+00],\n",
      "         [1.0435e-33, 0.0000e+00]]])\n"
     ]
    }
   ],
   "source": [
    "print(torch.empty(2,3))\n",
    "print(torch.FloatTensor(1,2,2))"
   ],
   "metadata": {
    "collapsed": false,
    "ExecuteTime": {
     "end_time": "2023-12-10T06:26:00.104881Z",
     "start_time": "2023-12-10T06:26:00.056086Z"
    }
   },
   "id": "98e79f1bade2c54"
  },
  {
   "cell_type": "markdown",
   "source": [
    "> 未初始化的数据会造成生成非常大/小的数字\n",
    "> 一定要进行覆盖"
   ],
   "metadata": {
    "collapsed": false
   },
   "id": "49382666ab2554e"
  },
  {
   "cell_type": "markdown",
   "source": [
    "# 随机初始化"
   ],
   "metadata": {
    "collapsed": false
   },
   "id": "f15dbe5ef4656dd2"
  },
  {
   "cell_type": "code",
   "execution_count": 5,
   "outputs": [
    {
     "name": "stdout",
     "output_type": "stream",
     "text": [
      "tensor([[0.6636, 0.9107, 0.9760],\n",
      "        [0.3689, 0.6611, 0.1208],\n",
      "        [0.2848, 0.3128, 0.7600]])\n",
      "tensor([[5, 1, 2],\n",
      "        [6, 1, 8],\n",
      "        [6, 2, 5]])\n"
     ]
    }
   ],
   "source": [
    "# [0,1]之间采样\n",
    "print(torch.rand(3,3))\n",
    "# 自定义采样空间[a,b)\n",
    "print(torch.randint(1, 10, [3,3]))"
   ],
   "metadata": {
    "collapsed": false,
    "ExecuteTime": {
     "end_time": "2023-12-10T06:34:42.040688Z",
     "start_time": "2023-12-10T06:34:42.032395Z"
    }
   },
   "id": "3a1db9944bbebb25"
  },
  {
   "cell_type": "markdown",
   "source": [
    "# 正态分布初始化"
   ],
   "metadata": {
    "collapsed": false
   },
   "id": "3386bf13beca231e"
  },
  {
   "cell_type": "code",
   "execution_count": 6,
   "outputs": [
    {
     "name": "stdout",
     "output_type": "stream",
     "text": [
      "tensor([[-1.0896,  0.1753, -0.4359],\n",
      "        [-1.0214,  0.5174, -1.2513],\n",
      "        [ 0.4487,  0.0259, -1.2773]])\n"
     ]
    }
   ],
   "source": [
    "print(torch.randn(3,3))"
   ],
   "metadata": {
    "collapsed": false,
    "ExecuteTime": {
     "end_time": "2023-12-10T06:37:21.991686Z",
     "start_time": "2023-12-10T06:37:21.948999Z"
    }
   },
   "id": "17c0e97cd0cad942"
  },
  {
   "cell_type": "markdown",
   "source": [
    "# 生成相同的初始化"
   ],
   "metadata": {
    "collapsed": false
   },
   "id": "ca907f71f54537f3"
  },
  {
   "cell_type": "code",
   "execution_count": 8,
   "outputs": [
    {
     "name": "stdout",
     "output_type": "stream",
     "text": [
      "tensor([[7, 7, 7],\n",
      "        [7, 7, 7]])\n",
      "tensor(7)\n",
      "tensor([7])\n"
     ]
    }
   ],
   "source": [
    "print(torch.full([2,3],7))\n",
    "print(torch.full([],7)) # 生成标量\n",
    "print(torch.full([1],7)) # 成成一维的向量"
   ],
   "metadata": {
    "collapsed": false,
    "ExecuteTime": {
     "end_time": "2023-12-10T06:39:29.095792Z",
     "start_time": "2023-12-10T06:39:29.086492Z"
    }
   },
   "id": "dd4cdb4a89fc1ac8"
  },
  {
   "cell_type": "markdown",
   "source": [
    "# 等差数列"
   ],
   "metadata": {
    "collapsed": false
   },
   "id": "e0d1fe34cf2b035"
  },
  {
   "cell_type": "code",
   "execution_count": 9,
   "outputs": [
    {
     "name": "stdout",
     "output_type": "stream",
     "text": [
      "tensor([0, 1, 2, 3, 4, 5, 6, 7, 8, 9])\n",
      "tensor([0, 2, 4, 6, 8])\n"
     ]
    }
   ],
   "source": [
    "print(torch.arange(0,10))\n",
    "print(torch.arange(0,10,2))"
   ],
   "metadata": {
    "collapsed": false,
    "ExecuteTime": {
     "end_time": "2023-12-10T06:41:03.314648Z",
     "start_time": "2023-12-10T06:41:03.273419Z"
    }
   },
   "id": "5052556b0d3b9bfc"
  },
  {
   "cell_type": "markdown",
   "source": [
    "# linspace/logspace"
   ],
   "metadata": {
    "collapsed": false
   },
   "id": "af7534062148c62a"
  },
  {
   "cell_type": "code",
   "execution_count": null,
   "outputs": [],
   "source": [
    "# [0,10]\n",
    "print(torch.linspace(0,10,steps = 4))\n",
    "print(torch.linspace(0,10,steps = 11))\n",
    "# [10^0, 10^-1]\n",
    "print(torch.linspace(0,-1,steps = 10))"
   ],
   "metadata": {
    "collapsed": false
   },
   "id": "b5c4a886d1515cea"
  },
  {
   "cell_type": "markdown",
   "source": [
    "# ones/zeros/eyes"
   ],
   "metadata": {
    "collapsed": false
   },
   "id": "fbfcc1f612d136f6"
  },
  {
   "cell_type": "code",
   "execution_count": 10,
   "outputs": [
    {
     "name": "stdout",
     "output_type": "stream",
     "text": [
      "tensor([[1., 1., 1.],\n",
      "        [1., 1., 1.],\n",
      "        [1., 1., 1.]])\n",
      "tensor([[0., 0., 0.],\n",
      "        [0., 0., 0.],\n",
      "        [0., 0., 0.]])\n",
      "tensor([[1., 0., 0., 0.],\n",
      "        [0., 1., 0., 0.],\n",
      "        [0., 0., 1., 0.]])\n"
     ]
    }
   ],
   "source": [
    "print(torch.ones(3,3))\n",
    "print(torch.zeros(3,3))\n",
    "# 最简矩阵\n",
    "print(torch.eye(3,4))"
   ],
   "metadata": {
    "collapsed": false,
    "ExecuteTime": {
     "end_time": "2023-12-10T06:46:10.418796Z",
     "start_time": "2023-12-10T06:46:10.241524Z"
    }
   },
   "id": "d050353885ef5f9e"
  },
  {
   "cell_type": "code",
   "execution_count": 12,
   "outputs": [
    {
     "name": "stdout",
     "output_type": "stream",
     "text": [
      "tensor([[1., 1., 1.],\n",
      "        [1., 1., 1.],\n",
      "        [1., 1., 1.]])\n"
     ]
    }
   ],
   "source": [
    "# 生成同shape的矩阵\n",
    "a = torch.zeros(3,3)\n",
    "print(torch.ones_like(a))"
   ],
   "metadata": {
    "collapsed": false,
    "ExecuteTime": {
     "end_time": "2023-12-10T06:48:02.459405Z",
     "start_time": "2023-12-10T06:48:02.423904Z"
    }
   },
   "id": "a33d6eaffb959015"
  },
  {
   "cell_type": "markdown",
   "source": [
    "# 随机打散"
   ],
   "metadata": {
    "collapsed": false
   },
   "id": "285592dc4326c953"
  },
  {
   "cell_type": "code",
   "execution_count": 13,
   "outputs": [
    {
     "name": "stdout",
     "output_type": "stream",
     "text": [
      "tensor([0, 1])\n",
      "tensor([[0.0205, 0.9808, 0.5639],\n",
      "        [0.5537, 0.3413, 0.2411]])\n",
      "tensor([[0.7985, 0.0416],\n",
      "        [0.6324, 0.7053]])\n",
      "tensor([[0.0205, 0.9808, 0.5639],\n",
      "        [0.5537, 0.3413, 0.2411]]) tensor([[0.7985, 0.0416],\n",
      "        [0.6324, 0.7053]])\n"
     ]
    }
   ],
   "source": [
    "a = torch.rand(2,3)\n",
    "b = torch.rand(2,2)\n",
    "# 索引\n",
    "idx = torch.randperm(2)\n",
    "print(idx)\n",
    "print(a[idx])\n",
    "print(b[idx])\n",
    "print(a,b)"
   ],
   "metadata": {
    "collapsed": false,
    "ExecuteTime": {
     "end_time": "2023-12-10T06:51:09.766616Z",
     "start_time": "2023-12-10T06:51:09.725283Z"
    }
   },
   "id": "f658ea64c90402f0"
  }
 ],
 "metadata": {
  "kernelspec": {
   "display_name": "Python 3",
   "language": "python",
   "name": "python3"
  },
  "language_info": {
   "codemirror_mode": {
    "name": "ipython",
    "version": 2
   },
   "file_extension": ".py",
   "mimetype": "text/x-python",
   "name": "python",
   "nbconvert_exporter": "python",
   "pygments_lexer": "ipython2",
   "version": "2.7.6"
  }
 },
 "nbformat": 4,
 "nbformat_minor": 5
}
