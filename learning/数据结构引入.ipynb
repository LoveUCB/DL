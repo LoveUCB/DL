{
 "cells": [
  {
   "cell_type": "markdown",
   "source": [
    "# 梯度下降手写数字识别\n",
    "- 灰度图片表示：一个矩阵打平成一个向量——每一个值0～1之间，表示像素\n",
    "- 怎样将特征和标签的数据进行拟合：3次矩阵乘法（3次线性模型的叠加）\n",
    "$$\n",
    " pred = W_3 * \\{W_2[W_1X + b_1] + b_2\\} + b_3\n",
    "$$\n",
    "- 数字的label编码存在大小关系，不合适\n",
    "## onehot编码\n",
    "- 编码：[0,1,0,0,0] [0,0,0,3,0] 预测：[0.1,0.8,0.1,0,0]\n",
    "- 损失函数——欧式距离（向量相减再平方）\n",
    "$$\n",
    "loss = (pred - y)^2\n",
    "$$ \n",
    "## 非线性部分添加\n",
    "- ReLU函数：输入的和小于零忽略，大于零输出和\n",
    "$$\n",
    "H_1 = relu(XW_1 + b_1)\n",
    "H_2 = relu(XW_2 + b_1)\n",
    "H_3 = relu(XW_3 + b_1)\n",
    "$$\n",
    "## argmax函数\n",
    "- 输出概率最大的酯的索引号 \n",
    "## Tensor\n",
    "- Int——IntTensor of size()\n",
    "- float——FloatTensor of size()\n",
    "- Int array——IntTensor of size[d1,d2,...]\n",
    "- 数据在CPU上和GPU上是不一样的\n",
    "## String\n",
    "- One-hot: dog——[1,0]    cat——[0,1]\n",
    "- Embedding: Word2vec, glove"
   ],
   "metadata": {
    "collapsed": false
   },
   "id": "330acd222a069f02"
  },
  {
   "cell_type": "code",
   "execution_count": 1,
   "outputs": [
    {
     "name": "stdout",
     "output_type": "stream",
     "text": [
      "tensor([[-0.5280, -1.4632,  1.2567],\n",
      "        [-2.2470, -0.7795, -0.3811]])\n",
      "torch.FloatTensor\n",
      "<class 'torch.Tensor'>\n",
      "False\n",
      "2\n",
      "3\n"
     ]
    }
   ],
   "source": [
    "import torch\n",
    "a = torch.randn(2,3)\n",
    "print(a)\n",
    "print(a.type()) # 返回数据的类型\n",
    "print(type(a)) # 返回基本的类型\n",
    "print(isinstance(a, torch.FloatType)) # 进行检验\n",
    "print(a.size(0))\n",
    "print(a.size(1))"
   ],
   "metadata": {
    "collapsed": false,
    "ExecuteTime": {
     "end_time": "2023-12-09T16:54:52.539081Z",
     "start_time": "2023-12-09T16:54:51.620469Z"
    }
   },
   "id": "9ca3b8e051623653"
  },
  {
   "cell_type": "code",
   "execution_count": 4,
   "outputs": [
    {
     "name": "stdout",
     "output_type": "stream",
     "text": [
      "False\n",
      "True\n"
     ]
    }
   ],
   "source": [
    "# 数据在CPU/GPU\n",
    "print(isinstance(a, torch.cuda.FloatTensor))\n",
    "# 将数据搬运到GPU上\n",
    "a = a.cuda()\n",
    "print(isinstance(a, torch.cuda.FloatTensor))"
   ],
   "metadata": {
    "collapsed": false,
    "ExecuteTime": {
     "end_time": "2023-12-09T16:10:44.691717Z",
     "start_time": "2023-12-09T16:10:44.424559Z"
    }
   },
   "id": "51b16169060b519c"
  },
  {
   "cell_type": "code",
   "execution_count": 7,
   "outputs": [
    {
     "name": "stdout",
     "output_type": "stream",
     "text": [
      "tensor(1.)\n",
      "tensor(1.3000)\n",
      "torch.Size([])\n",
      "0\n",
      "torch.Size([])\n"
     ]
    }
   ],
   "source": [
    "# 对于标量的生成\n",
    "print(torch.tensor(1.))\n",
    "print(torch.tensor(1.3))\n",
    "# 数据结构\n",
    "print(torch.tensor(1.3).shape)\n",
    "print(len(torch.tensor(1.3).shape))\n",
    "print(torch.tensor(1.3).size())"
   ],
   "metadata": {
    "collapsed": false,
    "ExecuteTime": {
     "end_time": "2023-12-09T16:15:09.350841Z",
     "start_time": "2023-12-09T16:15:09.348715Z"
    }
   },
   "id": "5392355a15c1eb14"
  },
  {
   "cell_type": "code",
   "execution_count": 8,
   "outputs": [
    {
     "name": "stdout",
     "output_type": "stream",
     "text": [
      "tensor([1.1000, 2.2000])\n",
      "tensor([3.7145e-34, 0.0000e+00])\n",
      "tensor([1., 1.], dtype=torch.float64)\n"
     ]
    }
   ],
   "source": [
    "# 一维张量\n",
    "print(torch.tensor([1.1,2.2]))\n",
    "print(torch.FloatTensor(2)) # 随机生成\n",
    "import numpy as np\n",
    "data = np.ones(2)\n",
    "print(torch.from_numpy(data))"
   ],
   "metadata": {
    "collapsed": false,
    "ExecuteTime": {
     "end_time": "2023-12-09T16:18:49.440907Z",
     "start_time": "2023-12-09T16:18:49.427950Z"
    }
   },
   "id": "a8a7ea4ba5e4a63e"
  },
  {
   "cell_type": "code",
   "execution_count": 9,
   "outputs": [
    {
     "name": "stdout",
     "output_type": "stream",
     "text": [
      "tensor([[[0.2653, 0.1974],\n",
      "         [0.3195, 0.4636]],\n",
      "\n",
      "        [[0.3302, 0.8303],\n",
      "         [0.2216, 0.3636]]])\n",
      "[2, 2, 2]\n"
     ]
    }
   ],
   "source": [
    "# 高维张量\n",
    "print(torch.rand(2,2,2))\n",
    "print(list(torch.rand(2,2,2).shape))"
   ],
   "metadata": {
    "collapsed": false,
    "ExecuteTime": {
     "end_time": "2023-12-09T16:34:01.879763Z",
     "start_time": "2023-12-09T16:34:01.853988Z"
    }
   },
   "id": "457ea56c82e6f637"
  },
  {
   "cell_type": "code",
   "execution_count": null,
   "outputs": [],
   "source": [
    "# 图片数据\n",
    "fig = torch.rand(2,3,28,28) # 两张照片，颜色，高，宽\n",
    "print(fig)\n",
    "print(fig.dim())"
   ],
   "metadata": {
    "collapsed": false
   },
   "id": "ccad22e544c5cdcb"
  }
 ],
 "metadata": {
  "kernelspec": {
   "display_name": "Python 3",
   "language": "python",
   "name": "python3"
  },
  "language_info": {
   "codemirror_mode": {
    "name": "ipython",
    "version": 2
   },
   "file_extension": ".py",
   "mimetype": "text/x-python",
   "name": "python",
   "nbconvert_exporter": "python",
   "pygments_lexer": "ipython2",
   "version": "2.7.6"
  }
 },
 "nbformat": 4,
 "nbformat_minor": 5
}
